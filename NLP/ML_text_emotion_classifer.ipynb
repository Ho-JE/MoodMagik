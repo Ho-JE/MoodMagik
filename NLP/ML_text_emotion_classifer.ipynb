{
  "cells": [
    {
      "cell_type": "code",
      "execution_count": null,
      "id": "d28e880e",
      "metadata": {
        "id": "d28e880e"
      },
      "outputs": [],
      "source": [
        "#!pip install textblob"
      ]
    },
    {
      "cell_type": "code",
      "execution_count": 1,
      "id": "40ab2650",
      "metadata": {
        "id": "40ab2650"
      },
      "outputs": [],
      "source": [
        "%matplotlib inline\n",
        "import pandas as pd\n",
        "import numpy as np\n",
        "import matplotlib.pyplot as plt\n",
        "import string\n",
        "from sklearn.feature_extraction.text import TfidfVectorizer\n",
        "from textblob import TextBlob\n",
        "import re\n",
        "import json\n",
        "import xgboost as xgb\n",
        "\n",
        "from sklearn.model_selection import train_test_split\n",
        "from sklearn.pipeline import Pipeline\n",
        "from sklearn.compose import ColumnTransformer\n",
        "from sklearn.feature_extraction.text import TfidfVectorizer\n",
        "from sklearn import preprocessing\n",
        "from sklearn.naive_bayes import MultinomialNB\n",
        "from sklearn.naive_bayes import GaussianNB \n",
        "from sklearn.linear_model import LogisticRegression\n",
        "from sklearn.linear_model import SGDClassifier\n",
        "from sklearn.neighbors import KNeighborsClassifier\n",
        "from sklearn.svm import SVC\n",
        "from sklearn.svm import LinearSVC\n",
        "from sklearn.ensemble import RandomForestClassifier\n",
        "from sklearn.tree import DecisionTreeClassifier\n",
        "from sklearn.preprocessing import StandardScaler\n",
        "\n",
        "#Metrics\n",
        "from sklearn import metrics\n",
        "from sklearn.metrics import confusion_matrix\n",
        "from sklearn.metrics import accuracy_score\n",
        "from sklearn.metrics import f1_score\n",
        "from sklearn.metrics import precision_score\n",
        "from sklearn.metrics import recall_score\n",
        "from sklearn.metrics import classification_report"
      ]
    },
    {
      "cell_type": "code",
      "execution_count": 2,
      "id": "13a46898",
      "metadata": {
        "colab": {
          "base_uri": "https://localhost:8080/"
        },
        "id": "13a46898",
        "outputId": "3f33f2f0-eba5-4da7-90b9-ad41d285e20c"
      },
      "outputs": [
        {
          "output_type": "stream",
          "name": "stdout",
          "text": [
            "Looking in indexes: https://pypi.org/simple, https://us-python.pkg.dev/colab-wheels/public/simple/\n",
            "Collecting contractions\n",
            "  Downloading contractions-0.1.73-py2.py3-none-any.whl (8.7 kB)\n",
            "Collecting textsearch>=0.0.21\n",
            "  Downloading textsearch-0.0.24-py2.py3-none-any.whl (7.6 kB)\n",
            "Collecting anyascii\n",
            "  Downloading anyascii-0.3.1-py3-none-any.whl (287 kB)\n",
            "\u001b[2K     \u001b[90m━━━━━━━━━━━━━━━━━━━━━━━━━━━━━━━━━━━━━━\u001b[0m \u001b[32m287.5/287.5 KB\u001b[0m \u001b[31m20.7 MB/s\u001b[0m eta \u001b[36m0:00:00\u001b[0m\n",
            "\u001b[?25hCollecting pyahocorasick\n",
            "  Downloading pyahocorasick-2.0.0-cp39-cp39-manylinux_2_5_x86_64.manylinux1_x86_64.whl (103 kB)\n",
            "\u001b[2K     \u001b[90m━━━━━━━━━━━━━━━━━━━━━━━━━━━━━━━━━━━━━━━\u001b[0m \u001b[32m103.2/103.2 KB\u001b[0m \u001b[31m8.1 MB/s\u001b[0m eta \u001b[36m0:00:00\u001b[0m\n",
            "\u001b[?25hInstalling collected packages: pyahocorasick, anyascii, textsearch, contractions\n",
            "Successfully installed anyascii-0.3.1 contractions-0.1.73 pyahocorasick-2.0.0 textsearch-0.0.24\n"
          ]
        },
        {
          "output_type": "stream",
          "name": "stderr",
          "text": [
            "[nltk_data] Downloading package omw-1.4 to /root/nltk_data...\n",
            "[nltk_data] Downloading package punkt to /root/nltk_data...\n",
            "[nltk_data]   Unzipping tokenizers/punkt.zip.\n",
            "[nltk_data] Downloading package stopwords to /root/nltk_data...\n",
            "[nltk_data]   Unzipping corpora/stopwords.zip.\n",
            "[nltk_data] Downloading package wordnet to /root/nltk_data...\n"
          ]
        }
      ],
      "source": [
        "#import library\n",
        "!pip install contractions \n",
        "\n",
        "import pandas as pd\n",
        "import numpy as np\n",
        "\n",
        "import nltk\n",
        "nltk.download('omw-1.4')\n",
        "nltk.download('punkt')\n",
        "nltk.download('stopwords')\n",
        "nltk.download('wordnet')\n",
        "from nltk.corpus import stopwords\n",
        "from bs4 import BeautifulSoup\n",
        "import unicodedata\n",
        "import contractions\n",
        "from contractions import contractions_dict\n",
        "from nltk.stem import WordNetLemmatizer\n",
        "from nltk.tokenize import word_tokenize, sent_tokenize, regexp_tokenize \n",
        "from nltk.stem import PorterStemmer, WordNetLemmatizer\n",
        "import re\n",
        "\n",
        "\n",
        "import re, string, unicodedata\n",
        "import nltk\n",
        "import contractions\n",
        "from bs4 import BeautifulSoup\n",
        "from nltk import word_tokenize, sent_tokenize\n",
        "from nltk.corpus import stopwords\n",
        "from nltk.stem.lancaster import LancasterStemmer\n",
        "from nltk.stem import WordNetLemmatizer"
      ]
    },
    {
      "cell_type": "code",
      "source": [
        "import pandas as pd\n",
        "\n",
        "# Read JSONL file into a DataFrame\n",
        "df = pd.read_json('/content/data.jsonl', lines=True)\n",
        "\n",
        "# Print the first few rows of the DataFrame\n",
        "print(df.head())\n"
      ],
      "metadata": {
        "colab": {
          "base_uri": "https://localhost:8080/",
          "height": 380
        },
        "id": "3CPWO3NA-9qB",
        "outputId": "3e7ccdae-ba5b-4488-a633-366322b1788c"
      },
      "id": "3CPWO3NA-9qB",
      "execution_count": 8,
      "outputs": [
        {
          "output_type": "error",
          "ename": "ValueError",
          "evalue": "ignored",
          "traceback": [
            "\u001b[0;31m---------------------------------------------------------------------------\u001b[0m",
            "\u001b[0;31mValueError\u001b[0m                                Traceback (most recent call last)",
            "\u001b[0;32m<ipython-input-8-625d5f03182f>\u001b[0m in \u001b[0;36m<module>\u001b[0;34m\u001b[0m\n\u001b[1;32m      2\u001b[0m \u001b[0;34m\u001b[0m\u001b[0m\n\u001b[1;32m      3\u001b[0m \u001b[0;31m# Read JSONL file into a DataFrame\u001b[0m\u001b[0;34m\u001b[0m\u001b[0;34m\u001b[0m\u001b[0m\n\u001b[0;32m----> 4\u001b[0;31m \u001b[0mdf\u001b[0m \u001b[0;34m=\u001b[0m \u001b[0mpd\u001b[0m\u001b[0;34m.\u001b[0m\u001b[0mread_json\u001b[0m\u001b[0;34m(\u001b[0m\u001b[0;34m'/content/data.jsonl'\u001b[0m\u001b[0;34m,\u001b[0m \u001b[0mlines\u001b[0m\u001b[0;34m=\u001b[0m\u001b[0;32mTrue\u001b[0m\u001b[0;34m)\u001b[0m\u001b[0;34m\u001b[0m\u001b[0;34m\u001b[0m\u001b[0m\n\u001b[0m\u001b[1;32m      5\u001b[0m \u001b[0;34m\u001b[0m\u001b[0m\n\u001b[1;32m      6\u001b[0m \u001b[0;31m# Print the first few rows of the DataFrame\u001b[0m\u001b[0;34m\u001b[0m\u001b[0;34m\u001b[0m\u001b[0m\n",
            "\u001b[0;32m/usr/local/lib/python3.9/dist-packages/pandas/util/_decorators.py\u001b[0m in \u001b[0;36mwrapper\u001b[0;34m(*args, **kwargs)\u001b[0m\n\u001b[1;32m    205\u001b[0m                 \u001b[0;32melse\u001b[0m\u001b[0;34m:\u001b[0m\u001b[0;34m\u001b[0m\u001b[0;34m\u001b[0m\u001b[0m\n\u001b[1;32m    206\u001b[0m                     \u001b[0mkwargs\u001b[0m\u001b[0;34m[\u001b[0m\u001b[0mnew_arg_name\u001b[0m\u001b[0;34m]\u001b[0m \u001b[0;34m=\u001b[0m \u001b[0mnew_arg_value\u001b[0m\u001b[0;34m\u001b[0m\u001b[0;34m\u001b[0m\u001b[0m\n\u001b[0;32m--> 207\u001b[0;31m             \u001b[0;32mreturn\u001b[0m \u001b[0mfunc\u001b[0m\u001b[0;34m(\u001b[0m\u001b[0;34m*\u001b[0m\u001b[0margs\u001b[0m\u001b[0;34m,\u001b[0m \u001b[0;34m**\u001b[0m\u001b[0mkwargs\u001b[0m\u001b[0;34m)\u001b[0m\u001b[0;34m\u001b[0m\u001b[0;34m\u001b[0m\u001b[0m\n\u001b[0m\u001b[1;32m    208\u001b[0m \u001b[0;34m\u001b[0m\u001b[0m\n\u001b[1;32m    209\u001b[0m         \u001b[0;32mreturn\u001b[0m \u001b[0mcast\u001b[0m\u001b[0;34m(\u001b[0m\u001b[0mF\u001b[0m\u001b[0;34m,\u001b[0m \u001b[0mwrapper\u001b[0m\u001b[0;34m)\u001b[0m\u001b[0;34m\u001b[0m\u001b[0;34m\u001b[0m\u001b[0m\n",
            "\u001b[0;32m/usr/local/lib/python3.9/dist-packages/pandas/util/_decorators.py\u001b[0m in \u001b[0;36mwrapper\u001b[0;34m(*args, **kwargs)\u001b[0m\n\u001b[1;32m    309\u001b[0m                     \u001b[0mstacklevel\u001b[0m\u001b[0;34m=\u001b[0m\u001b[0mstacklevel\u001b[0m\u001b[0;34m,\u001b[0m\u001b[0;34m\u001b[0m\u001b[0;34m\u001b[0m\u001b[0m\n\u001b[1;32m    310\u001b[0m                 )\n\u001b[0;32m--> 311\u001b[0;31m             \u001b[0;32mreturn\u001b[0m \u001b[0mfunc\u001b[0m\u001b[0;34m(\u001b[0m\u001b[0;34m*\u001b[0m\u001b[0margs\u001b[0m\u001b[0;34m,\u001b[0m \u001b[0;34m**\u001b[0m\u001b[0mkwargs\u001b[0m\u001b[0;34m)\u001b[0m\u001b[0;34m\u001b[0m\u001b[0;34m\u001b[0m\u001b[0m\n\u001b[0m\u001b[1;32m    312\u001b[0m \u001b[0;34m\u001b[0m\u001b[0m\n\u001b[1;32m    313\u001b[0m         \u001b[0;32mreturn\u001b[0m \u001b[0mwrapper\u001b[0m\u001b[0;34m\u001b[0m\u001b[0;34m\u001b[0m\u001b[0m\n",
            "\u001b[0;32m/usr/local/lib/python3.9/dist-packages/pandas/io/json/_json.py\u001b[0m in \u001b[0;36mread_json\u001b[0;34m(path_or_buf, orient, typ, dtype, convert_axes, convert_dates, keep_default_dates, numpy, precise_float, date_unit, encoding, encoding_errors, lines, chunksize, compression, nrows, storage_options)\u001b[0m\n\u001b[1;32m    612\u001b[0m \u001b[0;34m\u001b[0m\u001b[0m\n\u001b[1;32m    613\u001b[0m     \u001b[0;32mwith\u001b[0m \u001b[0mjson_reader\u001b[0m\u001b[0;34m:\u001b[0m\u001b[0;34m\u001b[0m\u001b[0;34m\u001b[0m\u001b[0m\n\u001b[0;32m--> 614\u001b[0;31m         \u001b[0;32mreturn\u001b[0m \u001b[0mjson_reader\u001b[0m\u001b[0;34m.\u001b[0m\u001b[0mread\u001b[0m\u001b[0;34m(\u001b[0m\u001b[0;34m)\u001b[0m\u001b[0;34m\u001b[0m\u001b[0;34m\u001b[0m\u001b[0m\n\u001b[0m\u001b[1;32m    615\u001b[0m \u001b[0;34m\u001b[0m\u001b[0m\n\u001b[1;32m    616\u001b[0m \u001b[0;34m\u001b[0m\u001b[0m\n",
            "\u001b[0;32m/usr/local/lib/python3.9/dist-packages/pandas/io/json/_json.py\u001b[0m in \u001b[0;36mread\u001b[0;34m(self)\u001b[0m\n\u001b[1;32m    744\u001b[0m                 \u001b[0mdata\u001b[0m \u001b[0;34m=\u001b[0m \u001b[0mensure_str\u001b[0m\u001b[0;34m(\u001b[0m\u001b[0mself\u001b[0m\u001b[0;34m.\u001b[0m\u001b[0mdata\u001b[0m\u001b[0;34m)\u001b[0m\u001b[0;34m\u001b[0m\u001b[0;34m\u001b[0m\u001b[0m\n\u001b[1;32m    745\u001b[0m                 \u001b[0mdata_lines\u001b[0m \u001b[0;34m=\u001b[0m \u001b[0mdata\u001b[0m\u001b[0;34m.\u001b[0m\u001b[0msplit\u001b[0m\u001b[0;34m(\u001b[0m\u001b[0;34m\"\\n\"\u001b[0m\u001b[0;34m)\u001b[0m\u001b[0;34m\u001b[0m\u001b[0;34m\u001b[0m\u001b[0m\n\u001b[0;32m--> 746\u001b[0;31m                 \u001b[0mobj\u001b[0m \u001b[0;34m=\u001b[0m \u001b[0mself\u001b[0m\u001b[0;34m.\u001b[0m\u001b[0m_get_object_parser\u001b[0m\u001b[0;34m(\u001b[0m\u001b[0mself\u001b[0m\u001b[0;34m.\u001b[0m\u001b[0m_combine_lines\u001b[0m\u001b[0;34m(\u001b[0m\u001b[0mdata_lines\u001b[0m\u001b[0;34m)\u001b[0m\u001b[0;34m)\u001b[0m\u001b[0;34m\u001b[0m\u001b[0;34m\u001b[0m\u001b[0m\n\u001b[0m\u001b[1;32m    747\u001b[0m         \u001b[0;32melse\u001b[0m\u001b[0;34m:\u001b[0m\u001b[0;34m\u001b[0m\u001b[0;34m\u001b[0m\u001b[0m\n\u001b[1;32m    748\u001b[0m             \u001b[0mobj\u001b[0m \u001b[0;34m=\u001b[0m \u001b[0mself\u001b[0m\u001b[0;34m.\u001b[0m\u001b[0m_get_object_parser\u001b[0m\u001b[0;34m(\u001b[0m\u001b[0mself\u001b[0m\u001b[0;34m.\u001b[0m\u001b[0mdata\u001b[0m\u001b[0;34m)\u001b[0m\u001b[0;34m\u001b[0m\u001b[0;34m\u001b[0m\u001b[0m\n",
            "\u001b[0;32m/usr/local/lib/python3.9/dist-packages/pandas/io/json/_json.py\u001b[0m in \u001b[0;36m_get_object_parser\u001b[0;34m(self, json)\u001b[0m\n\u001b[1;32m    768\u001b[0m         \u001b[0mobj\u001b[0m \u001b[0;34m=\u001b[0m \u001b[0;32mNone\u001b[0m\u001b[0;34m\u001b[0m\u001b[0;34m\u001b[0m\u001b[0m\n\u001b[1;32m    769\u001b[0m         \u001b[0;32mif\u001b[0m \u001b[0mtyp\u001b[0m \u001b[0;34m==\u001b[0m \u001b[0;34m\"frame\"\u001b[0m\u001b[0;34m:\u001b[0m\u001b[0;34m\u001b[0m\u001b[0;34m\u001b[0m\u001b[0m\n\u001b[0;32m--> 770\u001b[0;31m             \u001b[0mobj\u001b[0m \u001b[0;34m=\u001b[0m \u001b[0mFrameParser\u001b[0m\u001b[0;34m(\u001b[0m\u001b[0mjson\u001b[0m\u001b[0;34m,\u001b[0m \u001b[0;34m**\u001b[0m\u001b[0mkwargs\u001b[0m\u001b[0;34m)\u001b[0m\u001b[0;34m.\u001b[0m\u001b[0mparse\u001b[0m\u001b[0;34m(\u001b[0m\u001b[0;34m)\u001b[0m\u001b[0;34m\u001b[0m\u001b[0;34m\u001b[0m\u001b[0m\n\u001b[0m\u001b[1;32m    771\u001b[0m \u001b[0;34m\u001b[0m\u001b[0m\n\u001b[1;32m    772\u001b[0m         \u001b[0;32mif\u001b[0m \u001b[0mtyp\u001b[0m \u001b[0;34m==\u001b[0m \u001b[0;34m\"series\"\u001b[0m \u001b[0;32mor\u001b[0m \u001b[0mobj\u001b[0m \u001b[0;32mis\u001b[0m \u001b[0;32mNone\u001b[0m\u001b[0;34m:\u001b[0m\u001b[0;34m\u001b[0m\u001b[0;34m\u001b[0m\u001b[0m\n",
            "\u001b[0;32m/usr/local/lib/python3.9/dist-packages/pandas/io/json/_json.py\u001b[0m in \u001b[0;36mparse\u001b[0;34m(self)\u001b[0m\n\u001b[1;32m    883\u001b[0m \u001b[0;34m\u001b[0m\u001b[0m\n\u001b[1;32m    884\u001b[0m         \u001b[0;32melse\u001b[0m\u001b[0;34m:\u001b[0m\u001b[0;34m\u001b[0m\u001b[0;34m\u001b[0m\u001b[0m\n\u001b[0;32m--> 885\u001b[0;31m             \u001b[0mself\u001b[0m\u001b[0;34m.\u001b[0m\u001b[0m_parse_no_numpy\u001b[0m\u001b[0;34m(\u001b[0m\u001b[0;34m)\u001b[0m\u001b[0;34m\u001b[0m\u001b[0;34m\u001b[0m\u001b[0m\n\u001b[0m\u001b[1;32m    886\u001b[0m \u001b[0;34m\u001b[0m\u001b[0m\n\u001b[1;32m    887\u001b[0m         \u001b[0;32mif\u001b[0m \u001b[0mself\u001b[0m\u001b[0;34m.\u001b[0m\u001b[0mobj\u001b[0m \u001b[0;32mis\u001b[0m \u001b[0;32mNone\u001b[0m\u001b[0;34m:\u001b[0m\u001b[0;34m\u001b[0m\u001b[0;34m\u001b[0m\u001b[0m\n",
            "\u001b[0;32m/usr/local/lib/python3.9/dist-packages/pandas/io/json/_json.py\u001b[0m in \u001b[0;36m_parse_no_numpy\u001b[0;34m(self)\u001b[0m\n\u001b[1;32m   1138\u001b[0m         \u001b[0;32mif\u001b[0m \u001b[0morient\u001b[0m \u001b[0;34m==\u001b[0m \u001b[0;34m\"columns\"\u001b[0m\u001b[0;34m:\u001b[0m\u001b[0;34m\u001b[0m\u001b[0;34m\u001b[0m\u001b[0m\n\u001b[1;32m   1139\u001b[0m             self.obj = DataFrame(\n\u001b[0;32m-> 1140\u001b[0;31m                 \u001b[0mloads\u001b[0m\u001b[0;34m(\u001b[0m\u001b[0mjson\u001b[0m\u001b[0;34m,\u001b[0m \u001b[0mprecise_float\u001b[0m\u001b[0;34m=\u001b[0m\u001b[0mself\u001b[0m\u001b[0;34m.\u001b[0m\u001b[0mprecise_float\u001b[0m\u001b[0;34m)\u001b[0m\u001b[0;34m,\u001b[0m \u001b[0mdtype\u001b[0m\u001b[0;34m=\u001b[0m\u001b[0;32mNone\u001b[0m\u001b[0;34m\u001b[0m\u001b[0;34m\u001b[0m\u001b[0m\n\u001b[0m\u001b[1;32m   1141\u001b[0m             )\n\u001b[1;32m   1142\u001b[0m         \u001b[0;32melif\u001b[0m \u001b[0morient\u001b[0m \u001b[0;34m==\u001b[0m \u001b[0;34m\"split\"\u001b[0m\u001b[0;34m:\u001b[0m\u001b[0;34m\u001b[0m\u001b[0;34m\u001b[0m\u001b[0m\n",
            "\u001b[0;31mValueError\u001b[0m: Unmatched ''\"' when when decoding 'string'"
          ]
        }
      ]
    },
    {
      "cell_type": "code",
      "execution_count": 13,
      "id": "3faf0234",
      "metadata": {
        "id": "3faf0234",
        "colab": {
          "base_uri": "https://localhost:8080/"
        },
        "outputId": "20b0ba2c-a40e-45c0-e58b-dc9c5b3a74e1"
      },
      "outputs": [
        {
          "output_type": "stream",
          "name": "stdout",
          "text": [
            "                                                text  label\n",
            "0  i feel awful about it too because it s my job ...      0\n",
            "1                              im alone i feel awful      0\n",
            "2  ive probably mentioned this before but i reall...      1\n",
            "3           i was feeling a little low few days back      0\n",
            "4  i beleive that i am much more sensitive to oth...      2\n"
          ]
        }
      ],
      "source": [
        "import pandas as pd\n",
        "import json\n",
        "\n",
        "# Open the JSONL file\n",
        "with open('/content/data.jsonl', 'r') as f:\n",
        "    # Read each line and load it as a JSON object\n",
        "    lines = [json.loads(line) for line in f.readlines()]\n",
        "\n",
        "# Convert the list of JSON objects into a DataFrame\n",
        "df = pd.DataFrame(lines)\n",
        "\n",
        "# Print the first few rows of the DataFrame\n",
        "print(df.head())"
      ]
    },
    {
      "cell_type": "code",
      "execution_count": 14,
      "id": "c806745c",
      "metadata": {
        "id": "c806745c"
      },
      "outputs": [],
      "source": [
        "df = df[df['label'].isin([2, 5]) == False]"
      ]
    },
    {
      "cell_type": "code",
      "execution_count": 15,
      "id": "b663fb92",
      "metadata": {
        "id": "b663fb92"
      },
      "outputs": [],
      "source": [
        "df.replace({4: 2}, inplace=True)"
      ]
    },
    {
      "cell_type": "code",
      "execution_count": 16,
      "id": "271b72ad",
      "metadata": {
        "id": "271b72ad"
      },
      "outputs": [],
      "source": [
        "def strip_html(text):\n",
        "    soup = BeautifulSoup(text, \"html.parser\")\n",
        "    return soup.get_text()\n",
        "\n",
        "def remove_between_square_brackets(text):\n",
        "    return re.sub('\\[[^]]*\\]', '', text)\n",
        "\n",
        "def denoise_text(text):\n",
        "    text = strip_html(text)\n",
        "    text = remove_between_square_brackets(text)\n",
        "    return text\n",
        "\n",
        "\n",
        "\n",
        "# Define function to expand contractions\n",
        "def expand_contractions(phrase):\n",
        "    # specific\n",
        "    phrase = re.sub(r\"won\\'t\", \"will not\", phrase)\n",
        "    phrase = re.sub(r\"can\\'t\", \"can not\", phrase)\n",
        "\n",
        "    # general\n",
        "    phrase = re.sub(r\"n\\'t\", \" not\", phrase)\n",
        "    phrase = re.sub(r\"\\'re\", \" are\", phrase)\n",
        "    phrase = re.sub(r\"\\'s\", \" is\", phrase)\n",
        "    phrase = re.sub(r\"\\'d\", \" would\", phrase)\n",
        "    phrase = re.sub(r\"\\'ll\", \" will\", phrase)\n",
        "    phrase = re.sub(r\"\\'t\", \" not\", phrase)\n",
        "    phrase = re.sub(r\"\\'ve\", \" have\", phrase)\n",
        "    phrase = re.sub(r\"\\'m\", \" am\", phrase)\n",
        "    return phrase\n",
        "\n",
        "\n",
        "# special_characters removal\n",
        "def remove_special_characters(text, remove_digits=True):\n",
        "    pattern = r'[^a-zA-z0-9\\s]' if not remove_digits else r'[^a-zA-z\\s]'\n",
        "    text = re.sub(pattern, '', text)\n",
        "    return text\n",
        "\n",
        "\n",
        "def remove_non_ascii(words):\n",
        "    \"\"\"Remove non-ASCII characters from list of tokenized words\"\"\"\n",
        "    new_words = []\n",
        "    for word in words:\n",
        "        new_word = unicodedata.normalize('NFKD', word).encode('ascii', 'ignore').decode('utf-8', 'ignore')\n",
        "        new_words.append(new_word)\n",
        "    return new_words\n",
        "\n",
        "def to_lowercase(words):\n",
        "    \"\"\"Convert all characters to lowercase from list of tokenized words\"\"\"\n",
        "    new_words = []\n",
        "    for word in words:\n",
        "        new_word = word.lower()\n",
        "        new_words.append(new_word)\n",
        "    return new_words\n",
        "\n",
        "\n",
        "def remove_punctuation_and_splchars(words):\n",
        "    \"\"\"Remove punctuation from list of tokenized words\"\"\"\n",
        "    new_words = []\n",
        "    for word in words:\n",
        "        new_word = re.sub(r'[^\\w\\s]', '', word)\n",
        "        if new_word != '':\n",
        "            new_word = remove_special_characters(new_word, True)\n",
        "            new_words.append(new_word)\n",
        "    return new_words\n",
        "\n",
        "def replace_numbers(words):\n",
        "    \"\"\"Replace all interger occurrences in list of tokenized words with textual representation\"\"\"\n",
        "    p = inflect.engine()\n",
        "    new_words = []\n",
        "    for word in words:\n",
        "        if word.isdigit():\n",
        "            new_word = p.number_to_words(word)\n",
        "            new_words.append(new_word)\n",
        "        else:\n",
        "            new_words.append(word)\n",
        "    return new_words\n",
        "\n",
        "stopword_list= stopwords.words('english')\n",
        "stopword_list.append('im')\n",
        "stopword_list.append('ive')\n",
        "\n",
        "def remove_stopwords(words):\n",
        "    \"\"\"Remove stop words from list of tokenized words\"\"\"\n",
        "    new_words = []\n",
        "    for word in words:\n",
        "        if word not in stopword_list:\n",
        "            new_words.append(word)\n",
        "    return new_words\n",
        "\n",
        "def stem_words(words):\n",
        "    \"\"\"Stem words in list of tokenized words\"\"\"\n",
        "    stemmer = LancasterStemmer()\n",
        "    stems = []\n",
        "    for word in words:\n",
        "        stem = stemmer.stem(word)\n",
        "        stems.append(stem)\n",
        "    return stems\n",
        "\n",
        "def lemmatize_verbs(words):\n",
        "    \"\"\"Lemmatize verbs in list of tokenized words\"\"\"\n",
        "    lemmatizer = WordNetLemmatizer()\n",
        "    lemmas = []\n",
        "    for word in words:\n",
        "        lemma = lemmatizer.lemmatize(word, pos='v')\n",
        "        lemmas.append(lemma)\n",
        "    return lemmas\n",
        "\n",
        "def normalize(words):\n",
        "    words = remove_non_ascii(words)\n",
        "    words = to_lowercase(words)\n",
        "    words = remove_punctuation_and_splchars(words)\n",
        "    words = remove_stopwords(words)\n",
        "    return words\n",
        "\n",
        "def lemmatize(words):\n",
        "    lemmas = lemmatize_verbs(words)\n",
        "    return lemmas\n",
        "\n",
        "def normalize_and_lemmaize(input):\n",
        "    sample = denoise_text(input)\n",
        "    sample = remove_special_characters(sample)\n",
        "    words = nltk.word_tokenize(sample)\n",
        "    words = normalize(words)\n",
        "    lemmas = lemmatize(words)\n",
        "    return ' '.join(lemmas)"
      ]
    },
    {
      "cell_type": "code",
      "execution_count": 17,
      "id": "0f87dd18",
      "metadata": {
        "colab": {
          "base_uri": "https://localhost:8080/"
        },
        "id": "0f87dd18",
        "outputId": "4dec9fb6-552a-4f6f-da4f-72ba9e7961e4"
      },
      "outputs": [
        {
          "output_type": "stream",
          "name": "stdout",
          "text": [
            "['i', 'me', 'my', 'myself', 'we', 'our', 'ours', 'ourselves', 'you', \"you're\", \"you've\", \"you'll\", \"you'd\", 'your', 'yours', 'yourself', 'yourselves', 'he', 'him', 'his', 'himself', 'she', \"she's\", 'her', 'hers', 'herself', 'it', \"it's\", 'its', 'itself', 'they', 'them', 'their', 'theirs', 'themselves', 'what', 'which', 'who', 'whom', 'this', 'that', \"that'll\", 'these', 'those', 'am', 'is', 'are', 'was', 'were', 'be', 'been', 'being', 'have', 'has', 'had', 'having', 'do', 'does', 'did', 'doing', 'a', 'an', 'the', 'and', 'but', 'if', 'or', 'because', 'as', 'until', 'while', 'of', 'at', 'by', 'for', 'with', 'about', 'against', 'between', 'into', 'through', 'during', 'before', 'after', 'above', 'below', 'to', 'from', 'up', 'down', 'in', 'out', 'on', 'off', 'over', 'under', 'again', 'further', 'then', 'once', 'here', 'there', 'when', 'where', 'why', 'how', 'all', 'any', 'both', 'each', 'few', 'more', 'most', 'other', 'some', 'such', 'no', 'nor', 'not', 'only', 'own', 'same', 'so', 'than', 'too', 'very', 's', 't', 'can', 'will', 'just', 'don', \"don't\", 'should', \"should've\", 'now', 'd', 'll', 'm', 'o', 're', 've', 'y', 'ain', 'aren', \"aren't\", 'couldn', \"couldn't\", 'didn', \"didn't\", 'doesn', \"doesn't\", 'hadn', \"hadn't\", 'hasn', \"hasn't\", 'haven', \"haven't\", 'isn', \"isn't\", 'ma', 'mightn', \"mightn't\", 'mustn', \"mustn't\", 'needn', \"needn't\", 'shan', \"shan't\", 'shouldn', \"shouldn't\", 'wasn', \"wasn't\", 'weren', \"weren't\", 'won', \"won't\", 'wouldn', \"wouldn't\", 'im', 'ive']\n"
          ]
        }
      ],
      "source": [
        "print(stopword_list)"
      ]
    },
    {
      "cell_type": "code",
      "execution_count": 18,
      "id": "ce2c90eb",
      "metadata": {
        "id": "ce2c90eb"
      },
      "outputs": [],
      "source": [
        "df['clean_data'] = df['text'].map(lambda text: normalize_and_lemmaize(text))"
      ]
    },
    {
      "cell_type": "code",
      "execution_count": 19,
      "id": "342130f3",
      "metadata": {
        "id": "342130f3"
      },
      "outputs": [],
      "source": [
        "labels = df['label'].unique()\n",
        "if len(labels) < 2:\n",
        "    print('Error: Only one label in the data')\n",
        "else:\n",
        "    X = df[['clean_data']]\n",
        "    y = df[['label']]\n",
        "    X_train, X_test, y_train, y_test = train_test_split(X, y, test_size=0.20, \n",
        "                                                        random_state=0,\n",
        "                                                        shuffle=True,\n",
        "                                                        stratify=y)\n"
      ]
    },
    {
      "cell_type": "markdown",
      "id": "03ad9dc6",
      "metadata": {
        "id": "03ad9dc6"
      },
      "source": [
        "### TF-IDF + ML"
      ]
    },
    {
      "cell_type": "code",
      "execution_count": null,
      "id": "760c2824",
      "metadata": {
        "id": "760c2824"
      },
      "outputs": [],
      "source": [
        "from sklearn.pipeline import Pipeline\n",
        "from sklearn.feature_extraction.text import TfidfVectorizer\n",
        "from sklearn.preprocessing import MaxAbsScaler\n",
        "from sklearn.linear_model import LogisticRegression\n",
        "\n",
        "# Define the pipeline steps\n",
        "tfidf_vectorizer = TfidfVectorizer()\n",
        "logreg = LogisticRegression(max_iter=1000000)\n",
        "\n",
        "pipeline = Pipeline([\n",
        "    ('tfidf', TfidfVectorizer(ngram_range=(1, 1))),\n",
        "    ('scale', MaxAbsScaler()),\n",
        "    ('logreg', logreg)\n",
        "])\n",
        "\n",
        "# Train the model using the pipeline\n",
        "pipeline.fit(X_train['clean_data'], y_train['label'])\n",
        "\n",
        "# Make predictions on test data\n",
        "y_pred = pipeline.predict(X_test['clean_data'])"
      ]
    },
    {
      "cell_type": "code",
      "execution_count": null,
      "id": "cc9a8678",
      "metadata": {
        "id": "cc9a8678",
        "outputId": "23ae2696-99f1-45db-9d9c-06b0f1c76b95"
      },
      "outputs": [
        {
          "name": "stdout",
          "output_type": "stream",
          "text": [
            "Accuracy: 0.9301768381502103\n",
            "f1 score: 0.9300919818124156\n",
            "              precision    recall  f1-score   support\n",
            "\n",
            "           0       0.93      0.93      0.93     24238\n",
            "           1       0.96      0.97      0.96     28214\n",
            "           2       0.88      0.88      0.88      9542\n",
            "           3       0.89      0.89      0.89     11463\n",
            "\n",
            "    accuracy                           0.93     73457\n",
            "   macro avg       0.92      0.91      0.92     73457\n",
            "weighted avg       0.93      0.93      0.93     73457\n",
            "\n"
          ]
        }
      ],
      "source": [
        "# Accuracy score\n",
        "accuracy = pipeline.score(X_test['clean_data'] , y_test)\n",
        "# Assign f1 score to a variable\n",
        "score = f1_score(y_test, y_pred, average = 'weighted')\n",
        "\n",
        "# Printing evaluation metric (f1-score) \n",
        "print(\"Accuracy: {}\".format(accuracy))\n",
        "print(\"f1 score: {}\".format(score))\n",
        "print(classification_report(y_test,y_pred))"
      ]
    },
    {
      "cell_type": "code",
      "execution_count": null,
      "id": "768012c9",
      "metadata": {
        "id": "768012c9",
        "outputId": "addabdd3-04de-4006-d1d5-729c674a4452"
      },
      "outputs": [
        {
          "name": "stdout",
          "output_type": "stream",
          "text": [
            "Predicted label: 0\n",
            "0: Sadness, 1: Joy, 2: Fear, 3: Anger\n"
          ]
        }
      ],
      "source": [
        "# Define a new text sample to predict\n",
        "new_text = \"i was feeling a little low few days back.\"\n",
        "\n",
        "# Make predictions using the trained pipeline\n",
        "prediction = pipeline.predict([new_text])\n",
        "\n",
        "# Print the predicted label\n",
        "print(\"Predicted label:\", prediction[0])\n",
        "print('0: Sadness, 1: Joy, 2: Fear, 3: Anger')"
      ]
    },
    {
      "cell_type": "markdown",
      "id": "d0022b5e",
      "metadata": {
        "id": "d0022b5e"
      },
      "source": [
        "### TFIDF + LinearSVC"
      ]
    },
    {
      "cell_type": "code",
      "execution_count": null,
      "id": "c0aeb666",
      "metadata": {
        "id": "c0aeb666"
      },
      "outputs": [],
      "source": [
        "labels = df['label'].unique()\n",
        "if len(labels) < 2:\n",
        "    print('Error: Only one label in the data')\n",
        "else:\n",
        "    X = df[['clean_data']]\n",
        "    y = df[['label']]\n",
        "    X_train, X_test, y_train, y_test = train_test_split(X, y, test_size=0.20, \n",
        "                                                        random_state=0,\n",
        "                                                        shuffle=True,\n",
        "                                                        stratify=y)\n"
      ]
    },
    {
      "cell_type": "code",
      "execution_count": null,
      "id": "d9f7eea9",
      "metadata": {
        "id": "d9f7eea9"
      },
      "outputs": [],
      "source": [
        "from sklearn.pipeline import Pipeline\n",
        "from sklearn.feature_extraction.text import TfidfVectorizer\n",
        "from sklearn.preprocessing import MaxAbsScaler\n",
        "from sklearn.svm import LinearSVC\n",
        "\n",
        "# Define the pipeline steps\n",
        "tfidf_vectorizer = TfidfVectorizer()\n",
        "linear_svc = LinearSVC()\n",
        "\n",
        "pipeline = Pipeline([\n",
        "    ('tfidf', TfidfVectorizer(ngram_range=(1, 1))),\n",
        "    ('scale', MaxAbsScaler()),\n",
        "    ('linear_svc', linear_svc)\n",
        "])\n",
        "\n",
        "# Train the model using the pipeline\n",
        "pipeline.fit(X_train['clean_data'], y_train['label'])\n",
        "\n",
        "# Make predictions on test data\n",
        "y_pred = pipeline.predict(X_test['clean_data'])\n"
      ]
    },
    {
      "cell_type": "code",
      "execution_count": null,
      "id": "f77caf46",
      "metadata": {
        "id": "f77caf46",
        "outputId": "4f7c82d3-cbd7-40b1-e4c6-44e08f29b900"
      },
      "outputs": [
        {
          "name": "stdout",
          "output_type": "stream",
          "text": [
            "Accuracy: 0.9283662550880106\n",
            "f1 score: 0.9283107570748977\n",
            "              precision    recall  f1-score   support\n",
            "\n",
            "           0       0.93      0.93      0.93     24238\n",
            "           1       0.96      0.97      0.96     28214\n",
            "           3       0.89      0.88      0.88     11463\n",
            "           4       0.87      0.88      0.88      9542\n",
            "\n",
            "    accuracy                           0.93     73457\n",
            "   macro avg       0.91      0.91      0.91     73457\n",
            "weighted avg       0.93      0.93      0.93     73457\n",
            "\n"
          ]
        }
      ],
      "source": [
        "# Accuracy score\n",
        "accuracy = pipeline.score(X_test['clean_data'] , y_test)\n",
        "# Assign f1 score to a variable\n",
        "score = f1_score(y_test, y_pred, average = 'weighted')\n",
        "\n",
        "# Printing evaluation metric (f1-score) \n",
        "print(\"Accuracy: {}\".format(accuracy))\n",
        "print(\"f1 score: {}\".format(score))\n",
        "print(classification_report(y_test,y_pred))"
      ]
    },
    {
      "cell_type": "code",
      "execution_count": null,
      "id": "b65f8cf7",
      "metadata": {
        "id": "b65f8cf7",
        "outputId": "d99a0a0e-e87b-4eea-8cf4-44a3f99ad823"
      },
      "outputs": [
        {
          "name": "stdout",
          "output_type": "stream",
          "text": [
            "Predicted label: 0\n",
            "0: Sadness, 1: Joy, 3: Anger, 4: Fear\n"
          ]
        }
      ],
      "source": [
        "# Define a new text sample to predict\n",
        "new_text = \"i was feeling a little low few days back\"\n",
        "\n",
        "# Make predictions using the trained pipeline\n",
        "prediction = pipeline.predict([new_text])\n",
        "\n",
        "# Print the predicted label\n",
        "print(\"Predicted label:\", prediction[0])\n",
        "print('0: Sadness, 1: Joy, 3: Anger, 4: Fear')"
      ]
    },
    {
      "cell_type": "markdown",
      "id": "7a62ab9f",
      "metadata": {
        "id": "7a62ab9f"
      },
      "source": [
        "### XGBoost"
      ]
    },
    {
      "cell_type": "code",
      "execution_count": null,
      "id": "663ceffd",
      "metadata": {
        "id": "663ceffd"
      },
      "outputs": [],
      "source": [
        "labels = df['label'].unique()\n",
        "if len(labels) < 2:\n",
        "    print('Error: Only one label in the data')\n",
        "else:\n",
        "    X = df[['clean_data']]\n",
        "    y = df[['label']]\n",
        "    X_train, X_test, y_train, y_test = train_test_split(X, y, test_size=0.20, \n",
        "                                                        random_state=424,\n",
        "                                                        shuffle=True,\n",
        "                                                        stratify=y)\n"
      ]
    },
    {
      "cell_type": "code",
      "execution_count": null,
      "id": "8aa3efbe",
      "metadata": {
        "id": "8aa3efbe"
      },
      "outputs": [],
      "source": [
        "from sklearn.pipeline import Pipeline\n",
        "from sklearn.feature_extraction.text import TfidfVectorizer\n",
        "from xgboost import XGBClassifier\n",
        "\n",
        "# Define the pipeline steps\n",
        "tfidf_vectorizer = TfidfVectorizer()\n",
        "xgb_classifier = XGBClassifier()\n",
        "\n",
        "pipeline = Pipeline([\n",
        "    ('tfidf', tfidf_vectorizer),\n",
        "    ('xgb', xgb_classifier)\n",
        "])\n",
        "\n",
        "# Train the model using the pipeline\n",
        "pipeline.fit(X_train['clean_data'], y_train['label'])\n",
        "\n",
        "# Make predictions on test data\n",
        "y_pred = pipeline.predict(X_test['clean_data'])\n"
      ]
    },
    {
      "cell_type": "code",
      "execution_count": null,
      "id": "a5a93630",
      "metadata": {
        "id": "a5a93630",
        "outputId": "dcf350d8-5cad-40c0-b055-611d10fb6ef4"
      },
      "outputs": [
        {
          "name": "stdout",
          "output_type": "stream",
          "text": [
            "Accuracy: 0.9271955021304981\n",
            "f1 score: 0.9270023330199214\n",
            "              precision    recall  f1-score   support\n",
            "\n",
            "           0       0.93      0.92      0.93     24238\n",
            "           1       0.94      0.96      0.95     28214\n",
            "           2       0.87      0.91      0.89      9542\n",
            "           3       0.92      0.86      0.89     11463\n",
            "\n",
            "    accuracy                           0.93     73457\n",
            "   macro avg       0.92      0.91      0.92     73457\n",
            "weighted avg       0.93      0.93      0.93     73457\n",
            "\n"
          ]
        }
      ],
      "source": [
        "# Accuracy score\n",
        "accuracy = pipeline.score(X_test['clean_data'] , y_test)\n",
        "# Assign f1 score to a variable\n",
        "score = f1_score(y_test, y_pred, average = 'weighted')\n",
        "\n",
        "# Printing evaluation metric (f1-score) \n",
        "print(\"Accuracy: {}\".format(accuracy))\n",
        "print(\"f1 score: {}\".format(score))\n",
        "print(classification_report(y_test,y_pred))"
      ]
    },
    {
      "cell_type": "code",
      "execution_count": null,
      "id": "6bdd3ea3",
      "metadata": {
        "id": "6bdd3ea3",
        "outputId": "0b6ada09-58b5-412b-df99-f5c8eac79015"
      },
      "outputs": [
        {
          "name": "stdout",
          "output_type": "stream",
          "text": [
            "Predicted label: 0\n",
            "0: Sadness, 1: Joy, 3: Anger, 4: Fear\n"
          ]
        }
      ],
      "source": [
        "# Define a new text sample to predict\n",
        "new_text = \"i was feeling a little low few days back\"\n",
        "\n",
        "# Make predictions using the trained pipeline\n",
        "prediction = pipeline.predict([new_text])\n",
        "\n",
        "# Print the predicted label\n",
        "print(\"Predicted label:\", prediction[0])\n",
        "print('0: Sadness, 1: Joy, 3: Anger, 4: Fear')"
      ]
    },
    {
      "cell_type": "markdown",
      "id": "5062d5b9",
      "metadata": {
        "id": "5062d5b9"
      },
      "source": [
        "### LTSM"
      ]
    },
    {
      "cell_type": "code",
      "execution_count": 20,
      "id": "4e5f5868",
      "metadata": {
        "id": "4e5f5868"
      },
      "outputs": [],
      "source": [
        "from sklearn.model_selection import train_test_split\n",
        "from tensorflow.keras.preprocessing.text import Tokenizer\n",
        "from tensorflow.keras.preprocessing.sequence import pad_sequences\n",
        "\n",
        "# Read in the cleaned text data and labels\n",
        "X = df['clean_data']\n",
        "y = df['label']\n",
        "\n",
        "# Split the data into training and testing sets\n",
        "X_train, X_test, y_train, y_test = train_test_split(X, y, test_size=0.2, random_state=42)\n",
        "\n",
        "# Initialize the tokenizer with a maximum vocabulary size of 5000 words\n",
        "tokenizer = Tokenizer(num_words=5000)\n",
        "\n",
        "# Fit the tokenizer on the training data\n",
        "tokenizer.fit_on_texts(X_train)\n",
        "\n",
        "# Convert the text data to numerical sequences\n",
        "X_train_seq = tokenizer.texts_to_sequences(X_train)\n",
        "X_test_seq = tokenizer.texts_to_sequences(X_test)\n",
        "\n",
        "# Pad the sequences to a maximum length of 100\n",
        "max_seq_length = 100\n",
        "X_train_pad = pad_sequences(X_train_seq, maxlen=max_seq_length)\n",
        "X_test_pad = pad_sequences(X_test_seq, maxlen=max_seq_length)\n"
      ]
    },
    {
      "cell_type": "code",
      "execution_count": 30,
      "id": "29b9d172",
      "metadata": {
        "colab": {
          "base_uri": "https://localhost:8080/"
        },
        "id": "29b9d172",
        "outputId": "4da087b8-62bf-4278-f266-797fe30e685c"
      },
      "outputs": [
        {
          "output_type": "stream",
          "name": "stdout",
          "text": [
            "Epoch 1/5\n",
            "9183/9183 [==============================] - 126s 13ms/step - loss: 0.1004 - accuracy: 0.9544 - val_loss: 0.0580 - val_accuracy: 0.9711\n",
            "Epoch 2/5\n",
            "9183/9183 [==============================] - 95s 10ms/step - loss: 0.0509 - accuracy: 0.9723 - val_loss: 0.0520 - val_accuracy: 0.9721\n",
            "Epoch 3/5\n",
            "9183/9183 [==============================] - 93s 10ms/step - loss: 0.0435 - accuracy: 0.9750 - val_loss: 0.0560 - val_accuracy: 0.9721\n",
            "Epoch 4/5\n",
            "9183/9183 [==============================] - 95s 10ms/step - loss: 0.0384 - accuracy: 0.9768 - val_loss: 0.0563 - val_accuracy: 0.9721\n",
            "Epoch 5/5\n",
            "9183/9183 [==============================] - 94s 10ms/step - loss: 0.0351 - accuracy: 0.9778 - val_loss: 0.0633 - val_accuracy: 0.9714\n",
            "2296/2296 [==============================] - 11s 5ms/step - loss: 0.0633 - accuracy: 0.9714\n",
            "Test accuracy: 0.9713574051856995\n"
          ]
        }
      ],
      "source": [
        "from keras.models import Sequential\n",
        "from tensorflow.keras.layers import Dense, LSTM, Embedding\n",
        "from tensorflow.keras.preprocessing.text import Tokenizer\n",
        "from tensorflow.keras.preprocessing.sequence import pad_sequences\n",
        "from sklearn.preprocessing import LabelBinarizer\n",
        "\n",
        "# Tokenize the text data\n",
        "tokenizer = Tokenizer()\n",
        "tokenizer.fit_on_texts(X_train)\n",
        "\n",
        "# Convert the text to sequences of integers\n",
        "X_train_seq = tokenizer.texts_to_sequences(X_train)\n",
        "X_test_seq = tokenizer.texts_to_sequences(X_test)\n",
        "\n",
        "# Pad the sequences to a fixed length\n",
        "max_len = 100\n",
        "X_train_pad = pad_sequences(X_train_seq, maxlen=max_len)\n",
        "X_test_pad = pad_sequences(X_test_seq, maxlen=max_len)\n",
        "\n",
        "# Convert the label data to a matrix using LabelBinarizer\n",
        "lb = LabelBinarizer()\n",
        "y_train = lb.fit_transform(y_train)\n",
        "y_test = lb.transform(y_test)\n",
        "\n",
        "# Build the LSTM model\n",
        "model = Sequential()\n",
        "model.add(Embedding(input_dim=len(tokenizer.word_index)+1, output_dim=128, input_length=max_len))\n",
        "model.add(LSTM(128))\n",
        "model.add(Dense(64, activation='relu'))\n",
        "model.add(Dense(4, activation='softmax'))\n",
        "\n",
        "model.compile(loss='categorical_crossentropy', optimizer='adam', metrics=['accuracy'])\n",
        "\n",
        "# Train the model\n",
        "history = model.fit(X_train_pad, y_train, validation_data=(X_test_pad, y_test), epochs=5, batch_size=32)\n",
        "\n",
        "# Evaluate the model\n",
        "loss, accuracy = model.evaluate(X_test_pad, y_test)\n",
        "print('Test accuracy:', accuracy)\n"
      ]
    },
    {
      "cell_type": "code",
      "source": [
        "# Define the custom text to test\n",
        "custom_text = \"This is creeping me out\"\n",
        "\n",
        "# Tokenize the custom text\n",
        "custom_text_seq = tokenizer.texts_to_sequences([custom_text])\n",
        "\n",
        "# Pad the sequence to the same length as used for the training data\n",
        "custom_text_pad = pad_sequences(custom_text_seq, maxlen=max_len)\n",
        "\n",
        "# Make predictions using the trained model\n",
        "predictions = model.predict(custom_text_pad)\n",
        "\n",
        "# Convert the predictions to class labels using inverse_transform\n",
        "predicted_labels = lb.inverse_transform(predictions)\n",
        "\n",
        "print('Predicted label:', predicted_labels[0])\n"
      ],
      "metadata": {
        "colab": {
          "base_uri": "https://localhost:8080/"
        },
        "id": "oLNcqvX4ETKM",
        "outputId": "ace00915-226a-432e-f839-7e7f964c7fef"
      },
      "id": "oLNcqvX4ETKM",
      "execution_count": 39,
      "outputs": [
        {
          "output_type": "stream",
          "name": "stdout",
          "text": [
            "1/1 [==============================] - 0s 27ms/step\n",
            "Predicted label: 3\n"
          ]
        }
      ]
    }
  ],
  "metadata": {
    "kernelspec": {
      "display_name": "Python 3 (ipykernel)",
      "language": "python",
      "name": "python3"
    },
    "language_info": {
      "codemirror_mode": {
        "name": "ipython",
        "version": 3
      },
      "file_extension": ".py",
      "mimetype": "text/x-python",
      "name": "python",
      "nbconvert_exporter": "python",
      "pygments_lexer": "ipython3",
      "version": "3.9.12"
    },
    "colab": {
      "provenance": []
    },
    "accelerator": "GPU",
    "gpuClass": "standard"
  },
  "nbformat": 4,
  "nbformat_minor": 5
}